{
 "cells": [
  {
   "cell_type": "markdown",
   "metadata": {},
   "source": [
    "# Module 1 Assigment: Level 1\n",
    "\n",
    "Please note that this assignment has already been excecuted in an interactive shell before this notebook\n"
   ]
  },
  {
   "cell_type": "markdown",
   "metadata": {},
   "source": [
    "### 1. Check the python version you are using."
   ]
  },
  {
   "cell_type": "code",
   "execution_count": 1,
   "metadata": {},
   "outputs": [
    {
     "name": "stdout",
     "output_type": "stream",
     "text": [
      "Python 3.12.3\n"
     ]
    }
   ],
   "source": [
    "!python --version"
   ]
  },
  {
   "cell_type": "markdown",
   "metadata": {},
   "source": [
    "### 2. Open the python interactive shell and do the following operations. The operands are 3 and 4.\n",
    "\n",
    "- addition(+)\n",
    "- subtraction(-)\n",
    "- multiplication(*)\n",
    "- modulus(%)\n",
    "- division(/)\n",
    "- exponential(**)\n",
    "- floor division operator(//)"
   ]
  },
  {
   "cell_type": "code",
   "execution_count": 2,
   "metadata": {},
   "outputs": [
    {
     "name": "stdout",
     "output_type": "stream",
     "text": [
      "Addition: (3 + 4) = 7\n",
      "Subtraction: (3 - 4) = -1\n",
      "Multiplication: (3 * 4) = 12\n",
      "Modulus: (3 % 4) = 3\n",
      "Division: (3 / 4) = 0.75\n",
      "Exponential: (3 ** 4) = 81\n",
      "Floor Division (3 // 4) = 0\n"
     ]
    }
   ],
   "source": [
    "# first define the operands\n",
    "a = 3\n",
    "b = 4\n",
    "\n",
    "# second perform the operations\n",
    "addition = a + b\n",
    "subtraction = a - b\n",
    "multiplication = a * b\n",
    "modulus = a % b\n",
    "division = a / b\n",
    "exponential = a ** b\n",
    "floor_division = a // b\n",
    "\n",
    "# Printing the results\n",
    "print(f\"Addition: (3 + 4) = {addition}\")\n",
    "print(f\"Subtraction: (3 - 4) = {subtraction}\")\n",
    "print(f\"Multiplication: (3 * 4) = {multiplication}\")\n",
    "print(f\"Modulus: (3 % 4) = {modulus}\")\n",
    "print(f\"Division: (3 / 4) = {division}\")\n",
    "print(f\"Exponential: (3 ** 4) = {exponential}\")\n",
    "print(f\"Floor Division (3 // 4) = {floor_division}\")"
   ]
  },
  {
   "cell_type": "markdown",
   "metadata": {},
   "source": [
    "### 3. Write strings on the python interactive shell. The strings are the following:\n",
    "\\\n",
    "- Your name\n",
    "- Your family name\n",
    "- Your country\n",
    "- I am enjoying 30 days of python"
   ]
  },
  {
   "cell_type": "code",
   "execution_count": 3,
   "metadata": {},
   "outputs": [
    {
     "name": "stdout",
     "output_type": "stream",
     "text": [
      "Muhammad Al-amin\n",
      "Kabara family\n",
      "Nigeria\n",
      "I am enying 30 days of python\n"
     ]
    }
   ],
   "source": [
    "name = \"Muhammad Al-amin\"\n",
    "family_name = \"Kabara family\"\n",
    "country = \"Nigeria\"\n",
    "message = \"I am enying 30 days of python\"\n",
    "\n",
    "print(name)\n",
    "print(family_name)\n",
    "print(country)\n",
    "print(message)"
   ]
  },
  {
   "cell_type": "markdown",
   "metadata": {},
   "source": [
    "### 4. Check the data types of the following data:\n",
    "- 10\n",
    "- 9.8\n",
    "- 3.14\n",
    "- 4 - 4j\n",
    "- ['Asabeneh', 'Python', 'Finland']\n",
    "- Your name\n",
    "- Your family name\n",
    "- Your country"
   ]
  },
  {
   "cell_type": "code",
   "execution_count": 4,
   "metadata": {},
   "outputs": [
    {
     "name": "stdout",
     "output_type": "stream",
     "text": [
      "The type of 10 is: <class 'int'>\n",
      "The type of 9.8 is: <class 'float'>\n",
      "The type of 3.14 is: <class 'float'>\n",
      "The type of (4-4j) is: <class 'complex'>\n",
      "The type of ['Asabeneh', 'Python', 'Finland'] is: <class 'list'>\n",
      "The type of 'Muhammad Al-amin' is: <class 'str'>\n",
      "The type of 'Kabara family' is: <class 'str'>\n",
      "The type of 'Nigeria' is: <class 'str'>\n"
     ]
    }
   ],
   "source": [
    "print(f\"The type of {10} is: {type(10)}\")\n",
    "print(f\"The type of {9.8} is: {type(9.8)}\")\n",
    "print(f\"The type of {3.14} is: {type(3.14)}\")\n",
    "print(f\"The type of {4 - 4j} is: {type(4 - 4j)}\")\n",
    "print(f\"The type of {['Asabeneh', 'Python', 'Finland']} is: {type(['Asabeneh', 'Python', 'Finland'])}\")\n",
    "print(f\"The type of '{name}' is: {type(name)}\")\n",
    "print(f\"The type of '{family_name}' is: {type(family_name)}\")\n",
    "print(f\"The type of '{country}' is: {type(country)}\")"
   ]
  }
 ],
 "metadata": {
  "kernelspec": {
   "display_name": "myDS-env",
   "language": "python",
   "name": "python3"
  },
  "language_info": {
   "codemirror_mode": {
    "name": "ipython",
    "version": 3
   },
   "file_extension": ".py",
   "mimetype": "text/x-python",
   "name": "python",
   "nbconvert_exporter": "python",
   "pygments_lexer": "ipython3",
   "version": "3.12.3"
  }
 },
 "nbformat": 4,
 "nbformat_minor": 2
}
