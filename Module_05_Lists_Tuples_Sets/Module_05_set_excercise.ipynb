{
 "cells": [
  {
   "cell_type": "markdown",
   "metadata": {},
   "source": [
    "# Module 5 Set Assigment: Level 1, 2 and 3."
   ]
  },
  {
   "cell_type": "markdown",
   "metadata": {},
   "source": [
    "## Level 1"
   ]
  },
  {
   "cell_type": "code",
   "execution_count": 51,
   "metadata": {},
   "outputs": [],
   "source": [
    "# sets\n",
    "it_companies = {'Facebook', 'Google', 'Microsoft', 'Apple', 'IBM', 'Oracle', 'Amazon'}\n",
    "A = {19, 22, 24, 20, 25, 26}\n",
    "B = {19, 22, 20, 25, 26, 24, 28, 27}\n",
    "age = [22, 19, 24, 25, 26, 24, 25, 24]"
   ]
  },
  {
   "cell_type": "markdown",
   "metadata": {},
   "source": [
    "### 1. Find the length of the set it_companies"
   ]
  },
  {
   "cell_type": "code",
   "execution_count": 52,
   "metadata": {},
   "outputs": [
    {
     "data": {
      "text/plain": [
       "7"
      ]
     },
     "execution_count": 52,
     "metadata": {},
     "output_type": "execute_result"
    }
   ],
   "source": [
    "len(it_companies)"
   ]
  },
  {
   "cell_type": "markdown",
   "metadata": {},
   "source": [
    "### 2. Add 'Twitter' to it_companies."
   ]
  },
  {
   "cell_type": "code",
   "execution_count": 53,
   "metadata": {},
   "outputs": [
    {
     "data": {
      "text/plain": [
       "{'Amazon',\n",
       " 'Apple',\n",
       " 'Facebook',\n",
       " 'Google',\n",
       " 'IBM',\n",
       " 'Microsoft',\n",
       " 'Oracle',\n",
       " 'Twitter'}"
      ]
     },
     "execution_count": 53,
     "metadata": {},
     "output_type": "execute_result"
    }
   ],
   "source": [
    "it_companies.add(\"Twitter\")\n",
    "it_companies"
   ]
  },
  {
   "cell_type": "markdown",
   "metadata": {},
   "source": [
    "### 3. Insert multiple IT companies at once to the set it_companies."
   ]
  },
  {
   "cell_type": "code",
   "execution_count": 54,
   "metadata": {},
   "outputs": [
    {
     "data": {
      "text/plain": [
       "{'Amazon',\n",
       " 'Apple',\n",
       " 'Facebook',\n",
       " 'Google',\n",
       " 'IBM',\n",
       " 'Microsoft',\n",
       " 'Oppo',\n",
       " 'Oracle',\n",
       " 'Samsung',\n",
       " 'Twitter',\n",
       " 'Xaomi'}"
      ]
     },
     "execution_count": 54,
     "metadata": {},
     "output_type": "execute_result"
    }
   ],
   "source": [
    "it_companies.update({\"Xaomi\", \"Oppo\", \"Samsung\"})\n",
    "it_companies"
   ]
  },
  {
   "cell_type": "markdown",
   "metadata": {},
   "source": [
    "### 4. Remove one of the companies from the set it_companies."
   ]
  },
  {
   "cell_type": "code",
   "execution_count": 55,
   "metadata": {},
   "outputs": [
    {
     "data": {
      "text/plain": [
       "{'Amazon',\n",
       " 'Facebook',\n",
       " 'Google',\n",
       " 'IBM',\n",
       " 'Microsoft',\n",
       " 'Oppo',\n",
       " 'Oracle',\n",
       " 'Samsung',\n",
       " 'Twitter',\n",
       " 'Xaomi'}"
      ]
     },
     "execution_count": 55,
     "metadata": {},
     "output_type": "execute_result"
    }
   ],
   "source": [
    "it_companies.pop()\n",
    "it_companies"
   ]
  },
  {
   "cell_type": "markdown",
   "metadata": {},
   "source": [
    "### 5. What is the difference between remove and discard?\n",
    "\n",
    "- remove(item): Removes the specified item from the set. \n",
    "- discard(item): Also Removes the specified item from the set.\n",
    "- The key difference is that remove(item) raises Keyerror if the item does not exist and discard(item) doesn't"
   ]
  },
  {
   "cell_type": "markdown",
   "metadata": {},
   "source": [
    "# Sets Exercises: Level 2\n",
    "\n",
    "### 1. Join A and B."
   ]
  },
  {
   "cell_type": "code",
   "execution_count": 56,
   "metadata": {},
   "outputs": [
    {
     "data": {
      "text/plain": [
       "{19, 20, 22, 24, 25, 26, 27, 28}"
      ]
     },
     "execution_count": 56,
     "metadata": {},
     "output_type": "execute_result"
    }
   ],
   "source": [
    "A.union(B)"
   ]
  },
  {
   "cell_type": "markdown",
   "metadata": {},
   "source": [
    "### 2. Find A intersection B."
   ]
  },
  {
   "cell_type": "code",
   "execution_count": 57,
   "metadata": {},
   "outputs": [
    {
     "data": {
      "text/plain": [
       "{19, 20, 22, 24, 25, 26}"
      ]
     },
     "execution_count": 57,
     "metadata": {},
     "output_type": "execute_result"
    }
   ],
   "source": [
    "A.intersection(B)"
   ]
  },
  {
   "cell_type": "markdown",
   "metadata": {},
   "source": [
    "### 3. Is A subset of B?"
   ]
  },
  {
   "cell_type": "code",
   "execution_count": 58,
   "metadata": {},
   "outputs": [
    {
     "data": {
      "text/plain": [
       "True"
      ]
     },
     "execution_count": 58,
     "metadata": {},
     "output_type": "execute_result"
    }
   ],
   "source": [
    "A.issubset(B)"
   ]
  },
  {
   "cell_type": "markdown",
   "metadata": {},
   "source": [
    "### 4. Are A and B disjoint sets?"
   ]
  },
  {
   "cell_type": "code",
   "execution_count": 59,
   "metadata": {},
   "outputs": [
    {
     "data": {
      "text/plain": [
       "False"
      ]
     },
     "execution_count": 59,
     "metadata": {},
     "output_type": "execute_result"
    }
   ],
   "source": [
    "A.isdisjoint(B)"
   ]
  },
  {
   "cell_type": "markdown",
   "metadata": {},
   "source": [
    "### 5. Join A with B and B with A."
   ]
  },
  {
   "cell_type": "code",
   "execution_count": 60,
   "metadata": {},
   "outputs": [
    {
     "name": "stdout",
     "output_type": "stream",
     "text": [
      "{19, 20, 22, 24, 25, 26, 27, 28}\n",
      "{19, 20, 22, 24, 25, 26, 27, 28}\n"
     ]
    }
   ],
   "source": [
    "AB = A.union(B)\n",
    "BA = B.union(A)\n",
    "print(AB)\n",
    "print(BA)"
   ]
  },
  {
   "cell_type": "markdown",
   "metadata": {},
   "source": [
    "### 6. What is the symmetric difference between A and B?"
   ]
  },
  {
   "cell_type": "code",
   "execution_count": 61,
   "metadata": {},
   "outputs": [
    {
     "data": {
      "text/plain": [
       "{27, 28}"
      ]
     },
     "execution_count": 61,
     "metadata": {},
     "output_type": "execute_result"
    }
   ],
   "source": [
    "A.symmetric_difference(B)"
   ]
  },
  {
   "cell_type": "markdown",
   "metadata": {},
   "source": [
    "### 7. Delete the sets completely"
   ]
  },
  {
   "cell_type": "code",
   "execution_count": 62,
   "metadata": {},
   "outputs": [],
   "source": [
    "del A\n",
    "del B"
   ]
  },
  {
   "cell_type": "markdown",
   "metadata": {},
   "source": [
    "# Sets Exercises: Level 3"
   ]
  },
  {
   "cell_type": "markdown",
   "metadata": {},
   "source": [
    "### 1. Convert the ages to a set and compare the length of the list and the set. Which one is bigger?"
   ]
  },
  {
   "cell_type": "code",
   "execution_count": 63,
   "metadata": {},
   "outputs": [
    {
     "name": "stdout",
     "output_type": "stream",
     "text": [
      "ages = 8\n",
      "ages_set = 5\n",
      "The ages is bigger.\n"
     ]
    }
   ],
   "source": [
    "ages_set = set(age)\n",
    "print(f\"ages = {len(age)}\")\n",
    "print(f\"ages_set = {len(ages_set)}\")\n",
    "\n",
    "if len(age) > len(ages_set):\n",
    "    print(\"The ages is bigger.\")\n",
    "elif len(ages_set) > len(age):\n",
    "    print(\"The age set of ages is bigger.\")\n",
    "else:\n",
    "    print(\"They are equal.\")"
   ]
  },
  {
   "cell_type": "markdown",
   "metadata": {},
   "source": [
    "###  2. Explain the difference between the following data types: string, list, tuple, and set.\n",
    "\n",
    "- String: Immutable sequence of characters. Used for text data.\n",
    "- List: Ordered, mutable collection of items. Can contain duplicates.\n",
    "- Tuple: Ordered, immutable collection of items. Can contain duplicates.\n",
    "- Set: Unordered, mutable collection of unique items. Does not allow duplicates."
   ]
  },
  {
   "cell_type": "markdown",
   "metadata": {},
   "source": [
    "## 3. How many unique words have been used in the sentence?\n",
    "\n",
    "I am a teacher and I love to inspire and teach people."
   ]
  },
  {
   "cell_type": "code",
   "execution_count": 64,
   "metadata": {},
   "outputs": [
    {
     "data": {
      "text/plain": [
       "10"
      ]
     },
     "execution_count": 64,
     "metadata": {},
     "output_type": "execute_result"
    }
   ],
   "source": [
    "sentence = \"I am a teacher and I love to inspire and teach people.\"\n",
    "unique_words = set(sentence.split())\n",
    "len(unique_words)"
   ]
  }
 ],
 "metadata": {
  "kernelspec": {
   "display_name": "myDS-env",
   "language": "python",
   "name": "python3"
  },
  "language_info": {
   "codemirror_mode": {
    "name": "ipython",
    "version": 3
   },
   "file_extension": ".py",
   "mimetype": "text/x-python",
   "name": "python",
   "nbconvert_exporter": "python",
   "pygments_lexer": "ipython3",
   "version": "3.12.3"
  }
 },
 "nbformat": 4,
 "nbformat_minor": 2
}
