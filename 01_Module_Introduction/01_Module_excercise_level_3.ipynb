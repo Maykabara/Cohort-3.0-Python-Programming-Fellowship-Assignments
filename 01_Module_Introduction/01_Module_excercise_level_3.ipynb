{
 "cells": [
  {
   "cell_type": "markdown",
   "metadata": {},
   "source": [
    "# Module 1 Assigment: Level 3\n",
    "\n",
    "\n",
    "### 1. Write an example for different Python data types such as Number(Integer, Float, Complex), String, Boolean, List, Tuple, Set and Dictionary."
   ]
  },
  {
   "cell_type": "code",
   "execution_count": null,
   "metadata": {
    "vscode": {
     "languageId": "plaintext"
    }
   },
   "outputs": [],
   "source": [
    "# Number types\n",
    "integer = 3\n",
    "float = 3.12\n",
    "complex = 1 - 4j\n",
    "\n",
    "# String\n",
    "string = \"Hi, Arewa data science!\"\n",
    "\n",
    "# Boolean\n",
    "boolean = False  # Boolean (can also be True)\n",
    "\n",
    "# List containing diffrent types of values\n",
    "list = [1, 23, \"Python\", 4.5]\n",
    "\n",
    "# Tuple\n",
    "tuple = (1, 2, 3, \"four\")\n",
    "\n",
    "# Set\n",
    "set = {1, 2, 3, 4, 5}\n",
    "\n",
    "# Dictionary\n",
    "dict = {\"name\": \"Muhammad\", \"username\": \"Maykabara\", \"age\": 20, \"country\": \"Nigeria\"}\n",
    "\n",
    "# Print examples\n",
    "print(\"Integer:\", integer)\n",
    "print(\"Float:\", float)\n",
    "print(\"Complex:\", complex)\n",
    "print(\"String:\", string)\n",
    "print(\"Boolean:\", boolean)\n",
    "print(\"List:\", list)\n",
    "print(\"Tuple:\", tuple)\n",
    "print(\"Set:\", set)\n",
    "print(\"Dictionary:\", dict)\n",
    "\n"
   ]
  },
  {
   "cell_type": "markdown",
   "metadata": {},
   "source": [
    "### 2. Find an Euclidian distance between (2, 3) and (10, 8)"
   ]
  },
  {
   "cell_type": "code",
   "execution_count": null,
   "metadata": {
    "vscode": {
     "languageId": "plaintext"
    }
   },
   "outputs": [],
   "source": [
    "# define the coordinates\n",
    "x1, y1 = 2, 3\n",
    "x2, y2 = 10, 8\n",
    "\n",
    "# Calculate the Euclidean distance\n",
    "euclidean_distance = ((x2 - x1)**2 + (y2 - y1)**2)**0.5\n",
    "\n",
    "print(\"Euclidean Distance between (2, 3) and (10, 8) is :\", euclidean_distance)"
   ]
  }
 ],
 "metadata": {
  "language_info": {
   "name": "python"
  }
 },
 "nbformat": 4,
 "nbformat_minor": 2
}
