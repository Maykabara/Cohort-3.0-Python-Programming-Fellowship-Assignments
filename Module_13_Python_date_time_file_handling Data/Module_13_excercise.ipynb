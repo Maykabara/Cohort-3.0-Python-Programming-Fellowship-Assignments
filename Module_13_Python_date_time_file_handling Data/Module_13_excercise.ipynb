{
 "cells": [
  {
   "cell_type": "markdown",
   "metadata": {},
   "source": [
    "# Module 13 Assigment: Level 1\n",
    "## 💻 Python Datetime Exercises\n",
    "### 1. Get the current day, month, year, hour, minute and timestamp from datetime module."
   ]
  },
  {
   "cell_type": "code",
   "execution_count": 10,
   "metadata": {},
   "outputs": [
    {
     "name": "stdout",
     "output_type": "stream",
     "text": [
      "2025-01-22 19:37:23.508156\n"
     ]
    }
   ],
   "source": [
    "from datetime import datetime\n",
    "now = datetime.now()\n",
    "print(now)"
   ]
  },
  {
   "cell_type": "markdown",
   "metadata": {},
   "source": [
    "### 2. Format the current date using this format: \"%m/%d/%Y, %H:%M:%S\")"
   ]
  },
  {
   "cell_type": "code",
   "execution_count": 11,
   "metadata": {},
   "outputs": [
    {
     "name": "stdout",
     "output_type": "stream",
     "text": [
      "Formatted Date: 01/22/2025, 19:37:23\n"
     ]
    }
   ],
   "source": [
    "\n",
    "formatted_date = now.strftime(\"%m/%d/%Y, %H:%M:%S\")\n",
    "print(\"Formatted Date:\", formatted_date)"
   ]
  },
  {
   "cell_type": "markdown",
   "metadata": {},
   "source": [
    "### 3. Today is 5 December, 2019. Change this time string to time."
   ]
  },
  {
   "cell_type": "code",
   "execution_count": 12,
   "metadata": {},
   "outputs": [
    {
     "name": "stdout",
     "output_type": "stream",
     "text": [
      "Converted Time: 2019-12-05 00:00:00\n"
     ]
    }
   ],
   "source": [
    "time_string = \"5 December, 2019\"\n",
    "converted_time = datetime.strptime(time_string, \"%d %B, %Y\")\n",
    "print(\"Converted Time:\", converted_time)"
   ]
  },
  {
   "cell_type": "markdown",
   "metadata": {},
   "source": [
    "### 4. Calculate the time difference between now and new year."
   ]
  },
  {
   "cell_type": "code",
   "execution_count": 13,
   "metadata": {},
   "outputs": [
    {
     "name": "stdout",
     "output_type": "stream",
     "text": [
      "Time until New Year: 343 days, 4:22:36.491844\n"
     ]
    }
   ],
   "source": [
    "new_year = datetime(year=now.year + 1, month=1, day=1)\n",
    "time_to_new_year = new_year - now\n",
    "print(\"Time until New Year:\", time_to_new_year)"
   ]
  },
  {
   "cell_type": "markdown",
   "metadata": {},
   "source": [
    "### 5. Calculate the time difference between 1 January 1970 and now."
   ]
  },
  {
   "cell_type": "code",
   "execution_count": 14,
   "metadata": {},
   "outputs": [
    {
     "name": "stdout",
     "output_type": "stream",
     "text": [
      "Time since 1 January 1970: 20110 days, 19:37:23.508156\n"
     ]
    }
   ],
   "source": [
    "epoch = datetime(1970, 1, 1)\n",
    "time_since_epoch = now - epoch\n",
    "print(\"Time since 1 January 1970:\", time_since_epoch)"
   ]
  },
  {
   "cell_type": "markdown",
   "metadata": {},
   "source": [
    "### 6. Think, what can you use the datetime module for? Examples:\n",
    "- Time series analysis\n",
    "- To get a timestamp of any activities in an application\n",
    "- Adding posts on a blog\n",
    "  ### Examples of Applications:\n",
    "1. **Time Series Analysis**:\n",
    "   - Analyze or manipulate time-based data (e.g., stock prices, weather patterns).\n",
    "   \n",
    "2. **Timestamping Activities**:\n",
    "   - Log activities with timestamps in applications or systems (e.g., logging user actions).\n",
    "\n",
    "3. **Scheduling Tasks or Events**:\n",
    "   - Automate tasks based on specific dates and times (e.g., reminders, alarms).\n",
    "\n",
    "4. **Blog Post Timestamps**:\n",
    "   - Add creation or publication timestamps to blog posts or articles.\n",
    "\n",
    "5. **Performance Tracking**:\n",
    "   - Measure the time taken by code or system processes.\n",
    "\n",
    "6. **Handling Time Zones**:\n",
    "   - Convert times between different time zones (using `pytz` with `datetime`).\n",
    "\n",
    "7. **Calculating Durations**:\n",
    "   - Compute time differences (e.g., between two dates or events).\n",
    "\n",
    "8. **Countdowns and Alarms**:\n",
    "   - Build countdowns for specific events or set alarms.\n",
    "\n",
    "9. **Tracking Deadlines**:\n",
    "   - Manage project deadlines and calculate the time left.\n",
    "\n",
    "10. **Age Calculation**:\n",
    "    - Calculate a person’s age from their birthdate.\n",
    "\n",
    "11. **Validation of Dates**:\n",
    "    - Check whether a date or time input is valid.\n",
    "\n",
    "12. **Data Labeling**:\n",
    "    - Assign timestamps to datasets for record-keeping.\n"
   ]
  }
 ],
 "metadata": {
  "kernelspec": {
   "display_name": "myDS-env",
   "language": "python",
   "name": "python3"
  },
  "language_info": {
   "codemirror_mode": {
    "name": "ipython",
    "version": 3
   },
   "file_extension": ".py",
   "mimetype": "text/x-python",
   "name": "python",
   "nbconvert_exporter": "python",
   "pygments_lexer": "ipython3",
   "version": "3.12.3"
  }
 },
 "nbformat": 4,
 "nbformat_minor": 2
}
