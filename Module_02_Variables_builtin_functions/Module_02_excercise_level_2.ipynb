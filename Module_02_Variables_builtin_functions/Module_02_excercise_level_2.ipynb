{
 "cells": [
  {
   "cell_type": "markdown",
   "metadata": {},
   "source": [
    "# Module 2 Assigment: Level 2"
   ]
  },
  {
   "cell_type": "markdown",
   "metadata": {},
   "source": [
    "### 1. Check the data type of all your variables using type() built-in function.\n",
    "\n",
    "The %run command in Python is a special command used in Jupyter notebooks to execute another Python script (or notebook) from within the current notebook. "
   ]
  },
  {
   "cell_type": "code",
   "execution_count": null,
   "metadata": {},
   "outputs": [],
   "source": [
    "# Run the first notebook to execute its code and access its variables\n",
    "\n",
    "%run C:/Users/USER/Desktop/Cohort-3.0-Python-Programming-Fellowship-Assignments/Module_02_Variables_builtin_functions/Module_02_excercise_level_1.ipynb\n"
   ]
  },
  {
   "cell_type": "markdown",
   "metadata": {},
   "source": [
    "Now that the files are here we can perform our task"
   ]
  },
  {
   "cell_type": "code",
   "execution_count": null,
   "metadata": {},
   "outputs": [],
   "source": [
    "# Check the data types using type() function\n",
    "print(type(first_name))  \n",
    "print(type(last_name))   \n",
    "print(type(full_name))   \n",
    "print(type(country))     \n",
    "print(type(city))        \n",
    "print(type(age))         \n",
    "print(type(year))        \n",
    "print(type(is_married))  \n",
    "print(type(is_true))     \n",
    "print(type(is_light_on)) \n",
    "print(type(x))           \n",
    "print(type(y))           \n",
    "print(type(z)) "
   ]
  },
  {
   "cell_type": "markdown",
   "metadata": {},
   "source": [
    "### 2. Using the len() built-in function, find the length of your first name."
   ]
  }
 ],
 "metadata": {
  "kernelspec": {
   "display_name": "myDS-env",
   "language": "python",
   "name": "python3"
  },
  "language_info": {
   "codemirror_mode": {
    "name": "ipython",
    "version": 3
   },
   "file_extension": ".py",
   "mimetype": "text/x-python",
   "name": "python",
   "nbconvert_exporter": "python",
   "pygments_lexer": "ipython3",
   "version": "3.12.3"
  }
 },
 "nbformat": 4,
 "nbformat_minor": 2
}
