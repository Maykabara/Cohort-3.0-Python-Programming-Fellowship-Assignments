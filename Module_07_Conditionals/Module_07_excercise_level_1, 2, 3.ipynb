{
 "cells": [
  {
   "cell_type": "markdown",
   "metadata": {},
   "source": [
    "# Module 7 Assigment: Level 1\n",
    "\n",
    "### 1. Get user input using input(“Enter your age: ”). If user is 18 or older, give feedback: You are old enough to drive. If below 18 give feedback to wait for the missing amount of years. Output:\n",
    "Enter your age: 30\n",
    "\n",
    "You are old enough to learn to drive.\n",
    "\n",
    "Output:\n",
    "\n",
    "Enter your age: 15\n",
    "\n",
    "You need 3 more years to learn to drive."
   ]
  },
  {
   "cell_type": "code",
   "execution_count": 13,
   "metadata": {},
   "outputs": [
    {
     "name": "stdout",
     "output_type": "stream",
     "text": [
      "You are old enough to drive\n"
     ]
    }
   ],
   "source": [
    "age = int(input(\"Enter ypur age: \"))\n",
    "if age >= 18:\n",
    "    print(\"You are old enough to drive\")\n",
    "else:\n",
    "    missing_years = 18 - age\n",
    "    print(f\"Please wait for {missing_years} years\")"
   ]
  },
  {
   "cell_type": "markdown",
   "metadata": {},
   "source": [
    "### 2. Compare the values of my_age and your_age using if … else. Who is older (me or you)? Use input(“Enter your age: ”) to get the age as input. You can use a nested condition to print 'year' for 1 year difference in age, 'years' for bigger differences, and a custom text if my_age = your_age. Output:\n",
    "Enter your age: 30\n",
    "You are 5 years older than me."
   ]
  },
  {
   "cell_type": "code",
   "execution_count": 14,
   "metadata": {},
   "outputs": [
    {
     "name": "stdout",
     "output_type": "stream",
     "text": [
      "your are 15 years older than me\n"
     ]
    }
   ],
   "source": [
    "my_age = 19\n",
    "your_age = int(input(\"Enter your Age: \"))\n",
    "age_difference = your_age - my_age\n",
    "if your_age > my_age:\n",
    "    if age_difference == 1:\n",
    "        print(f\"Your are {age_difference} year older than me\")\n",
    "    else:\n",
    "        print(f\"your are {age_difference} years older than me\")\n",
    "elif age_difference == 0:\n",
    "    print(\"You are both the same age\")\n",
    "else:\n",
    "    print(f\"You are younger with {my_age - your_age} years\")"
   ]
  },
  {
   "cell_type": "markdown",
   "metadata": {},
   "source": [
    "### 3. Get two numbers from the user using input prompt. If a is greater than b return a is greater than b, if a is less b return a is smaller than b, else a is equal to b. Output:\n",
    "Enter number one: 4\n",
    "\n",
    "Enter number two: 3\n",
    "\n",
    "4 is greater than 3"
   ]
  },
  {
   "cell_type": "code",
   "execution_count": 15,
   "metadata": {},
   "outputs": [
    {
     "name": "stdout",
     "output_type": "stream",
     "text": [
      "4 is greater than 3\n"
     ]
    }
   ],
   "source": [
    "a = int(input(\"Enter first number: \"))\n",
    "b = int(input(\"Enter second number: \"))\n",
    "if a > b:\n",
    "    print(f\"{a} is greater than {b}\")\n",
    "elif b > a:\n",
    "    print(f\"{b} is greater than {a}\")\n",
    "else:\n",
    "    print(f\"{a} is equal to {b}\")"
   ]
  },
  {
   "cell_type": "markdown",
   "metadata": {},
   "source": [
    "# Module 7 Assigment: Level 2\n",
    "\n",
    "### 1. Write a code which gives grade to students according to theirs scores:\n",
    "80-100, A\n",
    "\n",
    "70-89, B\n",
    "\n",
    "60-69, C\n",
    "\n",
    "50-59, D\n",
    "\n",
    "0-49, F"
   ]
  },
  {
   "cell_type": "code",
   "execution_count": 16,
   "metadata": {},
   "outputs": [
    {
     "name": "stdout",
     "output_type": "stream",
     "text": [
      "Your score is 60 and your grade is: C\n"
     ]
    }
   ],
   "source": [
    "score = int(input('Enter a grade'))\n",
    "\n",
    "if score >= 80 and score <= 100:\n",
    "    print(f'Your score is {score} and your grade is: A')\n",
    "elif score >= 70 and score <=89:\n",
    "    print(f'Your score is {score} and your grade is: B')\n",
    "elif score >= 60 and score <= 69:\n",
    "    print(f'Your score is {score} and your grade is: C')\n",
    "elif score >= 50 and score <= 59:\n",
    "    score(f'Your score is {grade} and your grade is: D')\n",
    "elif score >= 0 and score <=49:\n",
    "    print(f'Your score is {score} and your grade is: F')\n",
    "else:\n",
    "    print('Invalid grade! enter a grade between 0 and 100') "
   ]
  },
  {
   "cell_type": "markdown",
   "metadata": {},
   "source": [
    "### 2. Check if the season is Autumn, Winter, Spring or Summer. If the user input is: September, October or November, the season is Autumn. December, January or February, the season is Winter. March, April or May, the season is Spring June, July or August, the season is Summer."
   ]
  },
  {
   "cell_type": "code",
   "execution_count": 17,
   "metadata": {},
   "outputs": [
    {
     "name": "stdout",
     "output_type": "stream",
     "text": [
      "The season is Summer.\n"
     ]
    }
   ],
   "source": [
    "month = input(\"Enter the name of the month: \").title()  \n",
    "\n",
    "if month in [\"September\", \"October\", \"November\"]:\n",
    "    print(\"The season is Autumn.\")\n",
    "elif month in [\"December\", \"January\", \"February\"]:\n",
    "    print(\"The season is Winter.\")\n",
    "elif month in [\"March\", \"April\", \"May\"]:\n",
    "    print(\"The season is Spring.\")\n",
    "elif month in [\"June\", \"July\", \"August\"]:\n",
    "    print(\"The season is Summer.\")\n",
    "else:\n",
    "    print(\"Please enter a valid month name.\")"
   ]
  },
  {
   "cell_type": "markdown",
   "metadata": {},
   "source": [
    "### 3. The following list contains some fruits:\n",
    "##### fruits = ['banana', 'orange', 'mango', 'lemon']\n",
    "If a fruit doesn't exist in the list add the fruit to the list and print the modified list. If the fruit exists print('That fruit already exist in the list')"
   ]
  },
  {
   "cell_type": "code",
   "execution_count": 18,
   "metadata": {},
   "outputs": [
    {
     "name": "stdout",
     "output_type": "stream",
     "text": [
      "That fruit already exists in the list.\n",
      "['banana', 'orange', 'mango', 'lemon']\n"
     ]
    }
   ],
   "source": [
    "fruits = ['banana', 'orange', 'mango', 'lemon']\n",
    "\n",
    "fruit = input(\"Enter a fruit: \").lower()\n",
    "\n",
    "if fruit not in fruits:\n",
    "    fruits.append(fruit)\n",
    "    print(f'The fruit {fruit} has been added to the list.')\n",
    "else:\n",
    "    print(\"That fruit already exists in the list.\")\n",
    "print(fruits)"
   ]
  },
  {
   "cell_type": "markdown",
   "metadata": {},
   "source": [
    "# Module 7 Assigment: Level 3\n",
    "### 1. Here we have a person dictionary. Feel free to modify it!"
   ]
  },
  {
   "cell_type": "markdown",
   "metadata": {},
   "source": [
    "\n",
    "*modified list*    \n",
    "### person={\n",
    "#### 'first_name': 'Muhammad',\n",
    "#### 'last_name': 'Al-amin',\n",
    "#### 'age': 22,\n",
    "#### 'country': 'Nigeria',\n",
    "#### 'is_marred': False,\n",
    "#### 'skills': ['JavaScript', 'React', 'Node', 'MongoDB', 'Python'],\n",
    "#### 'address': {'street': 'pump street','zipcode': '01121'}\n",
    "### }\n",
    "\n"
   ]
  },
  {
   "cell_type": "markdown",
   "metadata": {},
   "source": [
    "* Check if the person dictionary has skills key, if so print out the middle skill in the skills list.\n",
    "\n",
    "- Check if the person dictionary has skills key, if so check if the person has 'Python' skill and print out the result.\n",
    "- If a person skills has only JavaScript and React, print('He is a front end developer'), if the person skills has Node, Python, MongoDB, print('He is a backend developer'), if the person skills has React, Node and MongoDB, Print('He is a fullstack developer'), else print('unknown title') - for more accurate results more conditions can be nested!\n",
    "- If the person is married and if he lives in Finland, print the information in the following format:\n",
    "##### Muhammad Al-amin lives in Nigeria. He is not married"
   ]
  },
  {
   "cell_type": "code",
   "execution_count": 19,
   "metadata": {},
   "outputs": [
    {
     "name": "stdout",
     "output_type": "stream",
     "text": [
      "Skills is present in person list\n",
      "Python is present in person skills\n",
      "He is a frontend developer.\n",
      "Muhammad Al-amin lives in Nigeria and he is not married\n"
     ]
    }
   ],
   "source": [
    "person={\n",
    "    'first_name': 'Muhammad',\n",
    "    'last_name': 'Al-amin',\n",
    "    'age': 22,\n",
    "    'country': 'Nigeria',\n",
    "    'is_married': False,\n",
    "    'skills': ['JavaScript', 'React', 'Node', 'MongoDB', 'Python'],\n",
    "    'address': {'street': 'Space street','zipcode': '02210'}\n",
    "}\n",
    "\n",
    "if 'skills' in person:\n",
    "    print(\"Skills is present in person list\")\n",
    "    if 'Python' in person['skills']:\n",
    "        print(\"Python is present in person skills\")\n",
    "    else:\n",
    "        print(\"Python is not present in person skills\")\n",
    "else:\n",
    "    print(\"Skills is not present in person list\")\n",
    "\n",
    "# Skills check\n",
    "\n",
    "if 'JavaScript' in person[\"skills\"] and 'React' in person[\"skills\"]:\n",
    "    print(\"He is a frontend developer.\")\n",
    "elif 'Python' in person[\"skills\"] and \"Node\" in person[\"skills\"] and \"MongoDB\" in person[\"skills\"]:\n",
    "    print(\"He is a backend developer.\")\n",
    "elif 'MongoDB' in person[\"skills\"] and \"Node\" in person[\"skills\"] and \"React\" in person[\"skills\"]:\n",
    "    print(\"He is a fullstack developer.\")\n",
    "else:\n",
    "    print(\"Unknown Title.\")\n",
    "\n",
    "marital_status = \"married\" if person['is_married'] else \"not married\"\n",
    "\n",
    "print(f\"{person['first_name']} {person['last_name']} lives in {person[\"country\"]} and he is {marital_status}\")"
   ]
  }
 ],
 "metadata": {
  "kernelspec": {
   "display_name": "myDS-env",
   "language": "python",
   "name": "python3"
  },
  "language_info": {
   "codemirror_mode": {
    "name": "ipython",
    "version": 3
   },
   "file_extension": ".py",
   "mimetype": "text/x-python",
   "name": "python",
   "nbconvert_exporter": "python",
   "pygments_lexer": "ipython3",
   "version": "3.12.3"
  }
 },
 "nbformat": 4,
 "nbformat_minor": 2
}
