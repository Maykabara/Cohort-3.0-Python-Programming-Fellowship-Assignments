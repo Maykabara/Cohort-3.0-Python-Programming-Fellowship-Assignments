{
 "cells": [
  {
   "cell_type": "markdown",
   "metadata": {},
   "source": [
    "# Module 9 Assigment: Level 1\n",
    "\n",
    "### 1. Declare a function add_two_numbers. It takes two parameters and it returns a sum."
   ]
  },
  {
   "cell_type": "code",
   "execution_count": 52,
   "metadata": {},
   "outputs": [
    {
     "data": {
      "text/plain": [
       "9"
      ]
     },
     "execution_count": 52,
     "metadata": {},
     "output_type": "execute_result"
    }
   ],
   "source": [
    "def add_two_numbers(a,b): \n",
    "    return a+b \n",
    "add_two_numbers(4,5)"
   ]
  },
  {
   "cell_type": "markdown",
   "metadata": {},
   "source": [
    "### 2. Area of a circle is calculated as follows: area = π x r x r. Write a function that calculates area_of_circle.\n"
   ]
  },
  {
   "cell_type": "code",
   "execution_count": 53,
   "metadata": {},
   "outputs": [
    {
     "data": {
      "text/plain": [
       "50.24"
      ]
     },
     "execution_count": 53,
     "metadata": {},
     "output_type": "execute_result"
    }
   ],
   "source": [
    "def area_of_circle(pi, radius):\n",
    "    area = pi*radius*radius\n",
    "    return area\n",
    "area_of_circle(3.14, 4)"
   ]
  },
  {
   "cell_type": "markdown",
   "metadata": {},
   "source": [
    "### 3. Write a function called add_all_nums which takes arbitrary number of arguments and sums all the arguments. Check if all the list items are number types. If not do give a reasonable feedback.\n"
   ]
  },
  {
   "cell_type": "code",
   "execution_count": 54,
   "metadata": {},
   "outputs": [
    {
     "name": "stdout",
     "output_type": "stream",
     "text": [
      "Sum: 15.5\n"
     ]
    }
   ],
   "source": [
    "def add_all_nums(*args):\n",
    "  \"\"\"\n",
    "  This function sums all the arguments passed to it and it returns The sum of all the arguments.\n",
    "  \"\"\"\n",
    "  return sum(args)\n",
    "\n",
    "result = add_all_nums(1, 2.5, 3, 4, 5)\n",
    "print(\"Sum:\", result)  "
   ]
  },
  {
   "cell_type": "markdown",
   "metadata": {},
   "source": [
    "### 4. Temperature in °C can be converted to °F using this formula: °F = (°C x 9/5) + 32. Write a function which converts °C to °F, convert_celsius_to-fahrenheit."
   ]
  },
  {
   "cell_type": "code",
   "execution_count": 55,
   "metadata": {},
   "outputs": [
    {
     "name": "stdout",
     "output_type": "stream",
     "text": [
      "37 degrees Celsius is equal to 98.6 degrees Fahrenheit\n"
     ]
    }
   ],
   "source": [
    "def convert_celsius_to_fahrenheit(celsius):\n",
    "  \"\"\"\n",
    "  Converts a temperature from Celsius to Fahrenheit.\n",
    "  Returns:\n",
    "    The temperature in Fahrenheit.\n",
    "  \"\"\"\n",
    "  fahrenheit = (celsius * 9/5) + 32\n",
    "  return fahrenheit\n",
    "\n",
    "celsius_temp = 37\n",
    "fahrenheit_temp = convert_celsius_to_fahrenheit(celsius_temp)\n",
    "print(f\"{celsius_temp} degrees Celsius is equal to {fahrenheit_temp} degrees Fahrenheit\")"
   ]
  },
  {
   "cell_type": "markdown",
   "metadata": {},
   "source": [
    "### 5. Write a function called check-season, it takes a month parameter and returns the season: Autumn, Winter, Spring or Summer."
   ]
  },
  {
   "cell_type": "code",
   "execution_count": 56,
   "metadata": {},
   "outputs": [
    {
     "name": "stdout",
     "output_type": "stream",
     "text": [
      "Summer\n",
      "Winter\n",
      "Invalid month\n"
     ]
    }
   ],
   "source": [
    "def check_season(month):\n",
    "  \"\"\"\n",
    "  This function determines the season based on the given month.\n",
    "  \"\"\"\n",
    "  month = month.lower()  # Convert to lowercase for case-insensitive comparison\n",
    "\n",
    "  if month in (\"march\", \"april\", \"may\"):\n",
    "    return \"Spring\"\n",
    "  elif month in (\"june\", \"july\", \"august\"):\n",
    "    return \"Summer\"\n",
    "  elif month in (\"september\", \"october\", \"november\"):\n",
    "    return \"Autumn\"\n",
    "  elif month in (\"december\", \"january\", \"february\"):\n",
    "    return \"Winter\"\n",
    "  else:\n",
    "    return \"Invalid month\"\n",
    "\n",
    "print(check_season(\"June\"))  \n",
    "print(check_season(\"jAnUaRy\"))  \n",
    "print(check_season(\"foo\")) "
   ]
  },
  {
   "cell_type": "markdown",
   "metadata": {},
   "source": [
    "### 6. Write a function called calculate_slope which return the slope of a linear equation"
   ]
  },
  {
   "cell_type": "code",
   "execution_count": 57,
   "metadata": {},
   "outputs": [
    {
     "name": "stdout",
     "output_type": "stream",
     "text": [
      "The slope of the line passing through (2, 3) and (5, 9) is: 2.0\n"
     ]
    }
   ],
   "source": [
    "def calculate_slope(x1, y1, x2, y2):\n",
    "  \"\"\"\n",
    "  Calculates the slope of a line given two points.\n",
    "  \"\"\"\n",
    "\n",
    "  if x1 == x2:\n",
    "    return \"Slope is undefined\"  # Handle vertical lines\n",
    "  else:\n",
    "    slope = (y2 - y1) / (x2 - x1)\n",
    "    return slope\n",
    "\n",
    "x1 = 2\n",
    "y1 = 3\n",
    "x2 = 5\n",
    "y2 = 9\n",
    "\n",
    "slope = calculate_slope(x1, y1, x2, y2)\n",
    "print(f\"The slope of the line passing through ({x1}, {y1}) and ({x2}, {y2}) is: {slope}\")"
   ]
  },
  {
   "cell_type": "markdown",
   "metadata": {},
   "source": [
    "### 7. Quadratic equation is calculated as follows: ax² + bx + c = 0. Write a function which calculates solution set of a quadratic equation, solve_quadratic_eqn."
   ]
  },
  {
   "cell_type": "code",
   "execution_count": 58,
   "metadata": {},
   "outputs": [
    {
     "name": "stdout",
     "output_type": "stream",
     "text": [
      "1\n"
     ]
    }
   ],
   "source": [
    "def solve_quadratic_eqn(a, x, b, c):\n",
    "    quadratic_eqn = a * (x**2) + b * x + c\n",
    "    return quadratic_eqn\n",
    "\n",
    "result = solve_quadratic_eqn(1, 1, -1, 1)\n",
    "print(result)"
   ]
  },
  {
   "cell_type": "markdown",
   "metadata": {},
   "source": [
    "### 8. Declare a function named print_list. It takes a list as a parameter and it prints out each element of the list.\n"
   ]
  },
  {
   "cell_type": "code",
   "execution_count": 59,
   "metadata": {},
   "outputs": [
    {
     "name": "stdout",
     "output_type": "stream",
     "text": [
      "a\n",
      "b\n",
      "c\n"
     ]
    }
   ],
   "source": [
    "def print_list(elements):\n",
    "    for element in elements:\n",
    "        print(element)\n",
    "print_list(['a', 'b', 'c'])"
   ]
  },
  {
   "cell_type": "markdown",
   "metadata": {},
   "source": [
    "### 9. Declare a function named reverse_list. It takes an array as a parameter and it returns the reverse of the array (use loops).\n",
    "    \n",
    "    print(reverse_list([1, 2, 3, 4, 5]))\n",
    "    # [5, 4, 3, 2, 1]\n",
    "    print(reverse_list1([\"A\", \"B\", \"C\"]))\n",
    "    # [\"C\", \"B\", \"A\"]"
   ]
  },
  {
   "cell_type": "code",
   "execution_count": 60,
   "metadata": {},
   "outputs": [
    {
     "name": "stdout",
     "output_type": "stream",
     "text": [
      "[4, 3, 2, 1]\n"
     ]
    }
   ],
   "source": [
    "def reverse_list(array):\n",
    "    # Use the built-in reverse() method\n",
    "    array.reverse()\n",
    "    return array\n",
    "\n",
    "# Example usage\n",
    "print(reverse_list([1, 2, 3, 4]))"
   ]
  },
  {
   "cell_type": "markdown",
   "metadata": {},
   "source": [
    "### 10. Declare a function named capitalize_list_items. It takes a list as a parameter and it returns a capitalized list of items"
   ]
  },
  {
   "cell_type": "code",
   "execution_count": 61,
   "metadata": {},
   "outputs": [
    {
     "name": "stdout",
     "output_type": "stream",
     "text": [
      "['Apple', 'Banana', 'Cherry']\n"
     ]
    }
   ],
   "source": [
    "def capitalize_list_items(items):\n",
    "    return [item.capitalize() for item in items]\n",
    "\n",
    "\n",
    "print(capitalize_list_items(['apple', 'banana', 'cherry']))\n",
    "\n"
   ]
  },
  {
   "cell_type": "markdown",
   "metadata": {},
   "source": [
    "### 11. Declare a function named add_item. It takes a list and an item parameters. It returns a list with the item added at the end.\n"
   ]
  },
  {
   "cell_type": "markdown",
   "metadata": {},
   "source": [
    "    food_staff = ['Potato', 'Tomato', 'Mango', 'Milk']\n",
    "    print(add_item(food_staff, 'Meat'))     # ['Potato', 'Tomato', 'Mango', 'Milk','Meat']\n",
    "    numbers = [2, 3, 7, 9]\n",
    "    print(add_item(numbers, 5))      [2, 3, 7, 9, 5]"
   ]
  },
  {
   "cell_type": "code",
   "execution_count": 62,
   "metadata": {},
   "outputs": [
    {
     "name": "stdout",
     "output_type": "stream",
     "text": [
      "['Potato', 'Tomato', 'Mango', 'Milk', 'Meat']\n",
      "[2, 3, 7, 9, 5]\n"
     ]
    }
   ],
   "source": [
    "def add_item(lst, item):\n",
    "    lst.append(item)\n",
    "    return lst\n",
    "\n",
    "\n",
    "food_staff = ['Potato', 'Tomato', 'Mango', 'Milk']\n",
    "print(add_item(food_staff, 'Meat'))  \n",
    "\n",
    "numbers = [2, 3, 7, 9]\n",
    "print(add_item(numbers, 5))  \n"
   ]
  },
  {
   "cell_type": "markdown",
   "metadata": {},
   "source": [
    "### 12. Declare a function named remove_item. It takes a list and an item parameters. It returns a list with the item removed from it.\n",
    "    food_staff = ['Potato', 'Tomato', 'Mango', 'Milk'] \n",
    "    print(remove_item(food_staff, 'Mango'))  # ['Potato', 'Tomato', 'Milk'];\n",
    "    numbers = [2, 3, 7, 9]\n",
    "    print(remove_item(numbers, 3))  # [2, 7, 9]"
   ]
  },
  {
   "cell_type": "code",
   "execution_count": 63,
   "metadata": {},
   "outputs": [
    {
     "name": "stdout",
     "output_type": "stream",
     "text": [
      "['Potato', 'Tomato', 'Milk']\n",
      "[2, 7, 9]\n"
     ]
    }
   ],
   "source": [
    "def remove_item(lst, item):\n",
    "    if item in lst:\n",
    "        lst.remove(item)\n",
    "    return lst\n",
    "\n",
    "food_staff = ['Potato', 'Tomato', 'Mango', 'Milk']\n",
    "print(remove_item(food_staff, 'Mango')) \n",
    "\n",
    "numbers = [2, 3, 7, 9]\n",
    "print(remove_item(numbers, 3))  \n"
   ]
  },
  {
   "cell_type": "markdown",
   "metadata": {},
   "source": [
    "### 13. Declare a function named sum_of_numbers. It takes a number parameter and it adds all the numbers in that range.\n",
    "    print(sum_of_numbers(5))  # 15\n",
    "    print(sum_of_numbers(10)) # 55\n",
    "    print(sum_of_numbers(100)) # 5050"
   ]
  },
  {
   "cell_type": "code",
   "execution_count": 64,
   "metadata": {},
   "outputs": [
    {
     "name": "stdout",
     "output_type": "stream",
     "text": [
      "15\n",
      "55\n",
      "5050\n"
     ]
    }
   ],
   "source": [
    "def sum_of_numbers(number):\n",
    "    return sum(range(1, number + 1))\n",
    "\n",
    "\n",
    "print(sum_of_numbers(5))   \n",
    "print(sum_of_numbers(10))  \n",
    "print(sum_of_numbers(100)) \n"
   ]
  },
  {
   "cell_type": "markdown",
   "metadata": {},
   "source": [
    "### 14. Declare a function named sum_of_odds. It takes a number parameter and it adds all the odd numbers in that range.\n"
   ]
  },
  {
   "cell_type": "code",
   "execution_count": 65,
   "metadata": {},
   "outputs": [
    {
     "name": "stdout",
     "output_type": "stream",
     "text": [
      "9\n"
     ]
    }
   ],
   "source": [
    "def sum_of_odds(number):\n",
    "    return sum(range(1, number + 1, 2))  # Using a step of 2 to get odd numbers\n",
    "\n",
    "print(sum_of_odds(5))  "
   ]
  },
  {
   "cell_type": "markdown",
   "metadata": {},
   "source": [
    "### 15. Declare a function named sum_of_even. It takes a number parameter and it adds all the even numbers in that - range.\n"
   ]
  },
  {
   "cell_type": "code",
   "execution_count": 66,
   "metadata": {},
   "outputs": [
    {
     "name": "stdout",
     "output_type": "stream",
     "text": [
      "30\n"
     ]
    }
   ],
   "source": [
    "def sum_of_even(number):\n",
    "    return sum(range(0, number + 1, 2))  # Using a step of 2 to get even numbers\n",
    "\n",
    "print(sum_of_even(10)) "
   ]
  },
  {
   "cell_type": "markdown",
   "metadata": {},
   "source": [
    "# Module 9 Assigment: Level 2\n",
    "### 1. Declare a function named evens_and_odds . It takes a positive integer as parameter and it counts number of evens and odds in the number.\n",
    "    print(evens_and_odds(100))\n",
    "        # The number of odds are 50.\n",
    "        # The number of evens are 51."
   ]
  },
  {
   "cell_type": "code",
   "execution_count": 67,
   "metadata": {},
   "outputs": [
    {
     "name": "stdout",
     "output_type": "stream",
     "text": [
      "The number of odds are 50\n",
      "The number of evens are 50\n"
     ]
    }
   ],
   "source": [
    "def evens_and_odds(number):\n",
    "    evens = []\n",
    "    odd = []\n",
    "    for i in range(1, number + 1):\n",
    "        if i % 2 == 0:\n",
    "            evens.append(i)\n",
    "        else:\n",
    "            odd.append(i)\n",
    "    return evens, odd\n",
    "\n",
    "evens, odd = evens_and_odds(100)\n",
    "\n",
    "print(f\"The number of odds are {len(odd)}\")\n",
    "print(f\"The number of evens are {len(evens)}\")"
   ]
  },
  {
   "cell_type": "markdown",
   "metadata": {},
   "source": [
    "### 2. Call your function factorial, it takes a whole number as a parameter and it return a factorial of the number.\n"
   ]
  },
  {
   "cell_type": "code",
   "execution_count": 68,
   "metadata": {},
   "outputs": [
    {
     "name": "stdout",
     "output_type": "stream",
     "text": [
      "The factorial of 5 is 120\n"
     ]
    }
   ],
   "source": [
    "def factorial(number):\n",
    "    if number < 0:\n",
    "        return \"Factorial is not defined for negative numbers.\"\n",
    "    elif number == 0 or number == 1:\n",
    "        return 1\n",
    "    else:\n",
    "        result = 1\n",
    "        for i in range(2, number + 1):\n",
    "            result *= i\n",
    "        return result\n",
    "\n",
    "num = 5\n",
    "print(f\"The factorial of {num} is {factorial(num)}\")"
   ]
  },
  {
   "cell_type": "markdown",
   "metadata": {},
   "source": [
    "### 3. Call your function is_empty, it takes a parameter and it checks if it is empty or not.\n"
   ]
  },
  {
   "cell_type": "code",
   "execution_count": 69,
   "metadata": {},
   "outputs": [
    {
     "name": "stdout",
     "output_type": "stream",
     "text": [
      "True\n",
      "True\n",
      "True\n",
      "True\n",
      "True\n",
      "False\n",
      "False\n"
     ]
    }
   ],
   "source": [
    "def is_empty(param):\n",
    "    return not bool(param)\n",
    "\n",
    "# Example usage\n",
    "print(is_empty(\"\"))         # True (Empty string)\n",
    "print(is_empty([]))         # True (Empty list)\n",
    "print(is_empty({}))         # True (Empty dictionary)\n",
    "print(is_empty(0))          # True (0 is considered \"empty\")\n",
    "print(is_empty(None))       # True (None is empty)\n",
    "print(is_empty(\"Hello\"))    # False (Non-empty string)\n",
    "print(is_empty([1, 2, 3]))  # False "
   ]
  },
  {
   "cell_type": "markdown",
   "metadata": {},
   "source": [
    "### 4. Write different functions which take lists. They should calculate_mean, calculate_median, calculate_mode, calculate_range, calculate_variance, calculate_std (standard deviation)"
   ]
  },
  {
   "cell_type": "code",
   "execution_count": 70,
   "metadata": {},
   "outputs": [
    {
     "name": "stdout",
     "output_type": "stream",
     "text": [
      "Mean: 2.4\n",
      "Median: 2\n",
      "Mode: [2]\n",
      "Range: 3\n",
      "Variance: 1.04\n",
      "Standard Deviation: 1.019803902718557\n"
     ]
    }
   ],
   "source": [
    "\n",
    "from collections import Counter\n",
    "import math\n",
    "\n",
    "# Function to calculate the mean\n",
    "def calculate_mean(data):\n",
    "    if not data:\n",
    "        raise ValueError(\"The list is empty\")\n",
    "    return sum(data) / len(data)\n",
    "\n",
    "# Function to calculate the median\n",
    "def calculate_median(data):\n",
    "    if not data:\n",
    "        raise ValueError(\"The list is empty\")\n",
    "    sorted_data = sorted(data)\n",
    "    n = len(sorted_data)\n",
    "    mid = n // 2\n",
    "    if n % 2 == 0:\n",
    "        return (sorted_data[mid - 1] + sorted_data[mid]) / 2\n",
    "    else:\n",
    "        return sorted_data[mid]\n",
    "\n",
    "# Function to calculate the mode\n",
    "def calculate_mode(data):\n",
    "    if not data:\n",
    "        raise ValueError(\"The list is empty\")\n",
    "    counter = Counter(data)\n",
    "    max_count = max(counter.values())\n",
    "    modes = [key for key, count in counter.items() if count == max_count]\n",
    "    if len(modes) == len(data):\n",
    "        raise ValueError(\"No mode found (all values are unique)\")\n",
    "    return modes\n",
    "\n",
    "# Function to calculate the range\n",
    "def calculate_range(data):\n",
    "    if not data:\n",
    "        raise ValueError(\"The list is empty\")\n",
    "    return max(data) - min(data)\n",
    "\n",
    "# Function to calculate the variance\n",
    "def calculate_variance(data):\n",
    "    if not data:\n",
    "        raise ValueError(\"The list is empty\")\n",
    "    mean = calculate_mean(data)\n",
    "    return sum((x - mean) ** 2 for x in data) / len(data)\n",
    "\n",
    "# Function to calculate the standard deviation\n",
    "def calculate_std(data):\n",
    "    if not data:\n",
    "        raise ValueError(\"The list is empty\")\n",
    "    variance = calculate_variance(data)\n",
    "    return math.sqrt(variance)\n",
    "\n",
    "# Example usage\n",
    "data = [1, 2, 2, 3, 4]\n",
    "\n",
    "print(\"Mean:\", calculate_mean(data))\n",
    "print(\"Median:\", calculate_median(data))\n",
    "print(\"Mode:\", calculate_mode(data))\n",
    "print(\"Range:\", calculate_range(data))\n",
    "print(\"Variance:\", calculate_variance(data))\n",
    "print(\"Standard Deviation:\", calculate_std(data))"
   ]
  },
  {
   "cell_type": "markdown",
   "metadata": {},
   "source": [
    "# Module 9 Assigment: Level 3\n",
    "\n",
    "### 1. Write a function called is_prime, which checks if a number is prime.\n"
   ]
  },
  {
   "cell_type": "code",
   "execution_count": 71,
   "metadata": {},
   "outputs": [
    {
     "name": "stdout",
     "output_type": "stream",
     "text": [
      "True\n",
      "False\n",
      "True\n"
     ]
    }
   ],
   "source": [
    "def is_prime(n):\n",
    "    # Numbers less than 2 are not prime\n",
    "    if n < 2:\n",
    "        return False\n",
    "    \n",
    "    # Check for divisors from 2 to the square root of n\n",
    "    for i in range(2, int(n**0.5) + 1):\n",
    "        if n % i == 0:\n",
    "            return False\n",
    "    \n",
    "    return True\n",
    "\n",
    "print(is_prime(2)) \n",
    "print(is_prime(15)) \n",
    "print(is_prime(17)) "
   ]
  },
  {
   "cell_type": "markdown",
   "metadata": {},
   "source": [
    "### 2. Write a functions which checks if all items are unique in the list.\n",
    " "
   ]
  },
  {
   "cell_type": "code",
   "execution_count": 72,
   "metadata": {},
   "outputs": [
    {
     "name": "stdout",
     "output_type": "stream",
     "text": [
      "True\n",
      "False\n"
     ]
    }
   ],
   "source": [
    "def all_unique(lst):\n",
    "    return len(lst) == len(set(lst))\n",
    "\n",
    "print(all_unique([1, 2, 3, 4]))  \n",
    "print(all_unique([1, 2, 2, 4])) "
   ]
  },
  {
   "cell_type": "markdown",
   "metadata": {},
   "source": [
    "### 3. Write a function which checks if all the items of the list are of the same data type.\n"
   ]
  },
  {
   "cell_type": "code",
   "execution_count": 73,
   "metadata": {},
   "outputs": [
    {
     "name": "stdout",
     "output_type": "stream",
     "text": [
      "False\n",
      "True\n"
     ]
    }
   ],
   "source": [
    "def same_type(lst):\n",
    "    if not lst: \n",
    "        return True \n",
    "    first_type = type(lst[0])  \n",
    "    for item in lst:\n",
    "        if type(item) != first_type:  \n",
    "            return False\n",
    "    return True  \n",
    "# Test cases\n",
    "print(same_type([1, 2, 3, 4, \"age\"]))  \n",
    "print(same_type([1, 2, 2, 4]))  "
   ]
  },
  {
   "cell_type": "markdown",
   "metadata": {},
   "source": [
    "### 4. Write a function which check if provided variable is a valid python variable."
   ]
  },
  {
   "cell_type": "code",
   "execution_count": 74,
   "metadata": {},
   "outputs": [
    {
     "name": "stdout",
     "output_type": "stream",
     "text": [
      "True\n",
      "False\n",
      "True\n",
      "False\n",
      "True\n"
     ]
    }
   ],
   "source": [
    "\n",
    "import keyword\n",
    "import re\n",
    "\n",
    "def is_valid_variable_name(variable_name):\n",
    "    \"\"\"\n",
    "    Check if the provided variable_name is a valid Python variable name.\n",
    "    \n",
    "    :param variable_name: str, the variable name to check\n",
    "    :return: bool, True if valid, False otherwise\n",
    "    \"\"\"\n",
    "    # Variable names must be a string\n",
    "    if not isinstance(variable_name, str):\n",
    "        return False\n",
    "    \n",
    "    # Check if it is a Python keyword\n",
    "    if keyword.iskeyword(variable_name):\n",
    "        return False\n",
    "    \n",
    "    # Regular expression for valid Python identifiers\n",
    "    if re.match(r'^[a-zA-Z_]\\w*$', variable_name):\n",
    "        return True\n",
    "    else:\n",
    "        return False\n",
    "\n",
    "# Test cases\n",
    "print(is_valid_variable_name(\"my_var\"))     # True\n",
    "print(is_valid_variable_name(\"2variable\"))  # False\n",
    "print(is_valid_variable_name(\"_valid_var\")) # True\n",
    "print(is_valid_variable_name(\"class\"))      # False (keyword)\n",
    "print(is_valid_variable_name(\"valid123\"))   # True"
   ]
  },
  {
   "cell_type": "markdown",
   "metadata": {},
   "source": [
    "### 5. Go to the data folder and access the countries-data.py file.\n",
    "- Create a function called the most_spoken_languages in the world. It should return 10 or 20 most spoken languages in the world in descending order\n",
    "- Create a function called the most_populated_countries. It should return 10 or 20 most populated countries in descending order."
   ]
  },
  {
   "cell_type": "markdown",
   "metadata": {},
   "source": [
    "    Find the solution in contries_data.py file "
   ]
  },
  {
   "cell_type": "markdown",
   "metadata": {},
   "source": [
    "# 💻 List Comprehensions Exercises"
   ]
  },
  {
   "cell_type": "markdown",
   "metadata": {},
   "source": [
    "### 1. Filter only negative and zero in the list using list comprehension\n",
    "    numbers = [-4, -3, -2, -1, 0, 2, 4, 6]\n",
    "    numbers = [-4, -3, -2, -1, 0, 2, 4, 6]\n",
    "\n"
   ]
  },
  {
   "cell_type": "code",
   "execution_count": 75,
   "metadata": {},
   "outputs": [
    {
     "name": "stdout",
     "output_type": "stream",
     "text": [
      "[]\n"
     ]
    }
   ],
   "source": [
    "negative_and_zero = [num for num in numbers if num <= 0]\n",
    "print(negative_and_zero)"
   ]
  },
  {
   "cell_type": "markdown",
   "metadata": {},
   "source": [
    "### 2. Flatten the following list of lists of lists to a one dimensional list :\n",
    "    list_of_lists =[[[1, 2, 3]], [[4, 5, 6]], [[7, 8, 9]]]\n",
    "\n",
    "    output\n",
    "    [1, 2, 3, 4, 5, 6, 7, 8, 9]\n",
    "    \n",
    "\n",
    "\n"
   ]
  },
  {
   "cell_type": "code",
   "execution_count": 76,
   "metadata": {},
   "outputs": [
    {
     "name": "stdout",
     "output_type": "stream",
     "text": [
      "[1, 2, 3, 4, 5, 6, 7, 8, 9]\n"
     ]
    }
   ],
   "source": [
    "list_of_lists =[[[1, 2, 3]], [[4, 5, 6]], [[7, 8, 9]]]\n",
    "flattened_list = [number for row in list_of_lists for inner_list in row for number in inner_list]\n",
    "print(flattened_list)"
   ]
  },
  {
   "cell_type": "markdown",
   "metadata": {},
   "source": [
    "### 3. Using list comprehension create the following list of tuples:\n",
    "    [(0, 1, 0, 0, 0, 0, 0),\n",
    "    (1, 1, 1, 1, 1, 1, 1),\n",
    "    (2, 1, 2, 4, 8, 16, 32),\n",
    "    (3, 1, 3, 9, 27, 81, 243),\n",
    "    (4, 1, 4, 16, 64, 256, 1024),\n",
    "    (5, 1, 5, 25, 125, 625, 3125),\n",
    "    (6, 1, 6, 36, 216, 1296, 7776),\n",
    "    (7, 1, 7, 49, 343, 2401, 16807),\n",
    "    (8, 1, 8, 64, 512, 4096, 32768),\n",
    "    (9, 1, 9, 81, 729, 6561, 59049),\n",
    "    (10, 1, 10, 100, 1000, 10000, 100000)]"
   ]
  },
  {
   "cell_type": "code",
   "execution_count": 77,
   "metadata": {},
   "outputs": [
    {
     "name": "stdout",
     "output_type": "stream",
     "text": [
      "[(0, 1, 0, 0, 0, 0, 0), (1, 1, 1, 1, 1, 1, 1), (2, 1, 2, 4, 8, 16, 32), (3, 1, 3, 9, 27, 81, 243), (4, 1, 4, 16, 64, 256, 1024), (5, 1, 5, 25, 125, 625, 3125), (6, 1, 6, 36, 216, 1296, 7776), (7, 1, 7, 49, 343, 2401, 16807), (8, 1, 8, 64, 512, 4096, 32768), (9, 1, 9, 81, 729, 6561, 59049), (10, 1, 10, 100, 1000, 10000, 100000)]\n"
     ]
    }
   ],
   "source": [
    "result = [(x, 1, x, x**2, x**3, x**4, x**5) for x in range(11)]\n",
    "print(result)"
   ]
  },
  {
   "cell_type": "markdown",
   "metadata": {},
   "source": [
    "### 4. Flatten the following list to a new list:\n",
    "    countries = [[('Finland', 'Helsinki')], [('Sweden', 'Stockholm')], [('Norway', 'Oslo')]]\n",
    "\n",
    "    output:\n",
    "    [['FINLAND','FIN', 'HELSINKI'], ['SWEDEN', 'SWE', 'STOCKHOLM'], ['NORWAY', 'NOR', 'OSLO']]"
   ]
  },
  {
   "cell_type": "code",
   "execution_count": 78,
   "metadata": {},
   "outputs": [
    {
     "name": "stdout",
     "output_type": "stream",
     "text": [
      "[['FINLAND', 'FIN', 'Helsinki'], ['SWEDEN', 'SWE', 'Stockholm'], ['NORWAY', 'NOR', 'Oslo']]\n"
     ]
    }
   ],
   "source": [
    "countries = [[('Finland', 'Helsinki')], [('Sweden', 'Stockholm')], [('Norway', 'Oslo')]]\n",
    "\n",
    "flattened_countries = [\n",
    "    [country.upper(), country[:3].upper(), capital] \n",
    "    for sublist in countries \n",
    "    for country, capital in sublist \n",
    "]\n",
    "\n",
    "print(flattened_countries)"
   ]
  },
  {
   "cell_type": "markdown",
   "metadata": {},
   "source": [
    "### 5. Change the following list to a list of dictionaries:\n",
    "    countries = [[('Finland', 'Helsinki')], [('Sweden', 'Stockholm')], [('Norway', 'Oslo')]]\n",
    "\n",
    "    output:\n",
    "    [{'country': 'FINLAND', 'city': 'HELSINKI'},\n",
    "    {'country': 'SWEDEN', 'city': 'STOCKHOLM'},\n",
    "    {'country': 'NORWAY', 'city': 'OSLO'}]"
   ]
  },
  {
   "cell_type": "code",
   "execution_count": 79,
   "metadata": {},
   "outputs": [
    {
     "name": "stdout",
     "output_type": "stream",
     "text": [
      "[{'Country': 'FINLAND', 'City': 'HELSINKI'}, {'Country': 'SWEDEN', 'City': 'STOCKHOLM'}, {'Country': 'NORWAY', 'City': 'OSLO'}]\n"
     ]
    }
   ],
   "source": [
    "countries = [[('Finland', 'Helsinki')], [('Sweden', 'Stockholm')], [('Norway', 'Oslo')]]\n",
    "\n",
    "countries_to_a_list_of_dictionaries = [\n",
    "    {\"Country\": country.upper(), \"City\": city.upper()}\n",
    "    for sublist in countries \n",
    "    for country, city in sublist \n",
    "]\n",
    "\n",
    "print(countries_to_a_list_of_dictionaries)"
   ]
  },
  {
   "cell_type": "markdown",
   "metadata": {},
   "source": [
    "### 6. Change the following list of lists to a list of concatenated strings:\n",
    "    names = [[('Asabeneh', 'Yetayeh')], [('David', 'Smith')], [('Donald', 'Trump')], [('Bill', 'Gates')]]\n",
    "    output\n",
    "    ['Asabeneh Yetaeyeh', 'David Smith', 'Donald Trump', 'Bill Gates']"
   ]
  },
  {
   "cell_type": "code",
   "execution_count": 80,
   "metadata": {},
   "outputs": [
    {
     "name": "stdout",
     "output_type": "stream",
     "text": [
      "['Asabeneh Yetayeh', 'David Smith', 'Donald Trump', 'Bill Gates']\n"
     ]
    }
   ],
   "source": [
    "names = [[('Asabeneh', 'Yetayeh')], [('David', 'Smith')], [('Donald', 'Trump')], [('Bill', 'Gates')]]\n",
    "concatenated_names = [' '.join(name[0]) for name in names]\n",
    "\n",
    "print(concatenated_names)"
   ]
  },
  {
   "cell_type": "markdown",
   "metadata": {},
   "source": [
    "### 7. Write a lambda function which can solve a slope or y-intercept of linear functions."
   ]
  },
  {
   "cell_type": "code",
   "execution_count": 81,
   "metadata": {},
   "outputs": [
    {
     "name": "stdout",
     "output_type": "stream",
     "text": [
      "Y-intercept: -0.67\n"
     ]
    }
   ],
   "source": [
    "y_intercept = lambda x, y, m: y - m * x\n",
    "\n",
    "b = y_intercept(1, 2, 2.67)  \n",
    "print(f\"Y-intercept: {b:.2f}\") "
   ]
  }
 ],
 "metadata": {
  "kernelspec": {
   "display_name": "myDS-env",
   "language": "python",
   "name": "python3"
  },
  "language_info": {
   "codemirror_mode": {
    "name": "ipython",
    "version": 3
   },
   "file_extension": ".py",
   "mimetype": "text/x-python",
   "name": "python",
   "nbconvert_exporter": "python",
   "pygments_lexer": "ipython3",
   "version": "3.12.3"
  }
 },
 "nbformat": 4,
 "nbformat_minor": 2
}
